{
 "cells": [
  {
   "cell_type": "code",
   "execution_count": 1,
   "metadata": {},
   "outputs": [
    {
     "name": "stdout",
     "output_type": "stream",
     "text": [
      "Requirement already satisfied: scikit-plot in c:\\users\\johns\\anaconda3\\lib\\site-packages (0.3.7)\n",
      "Requirement already satisfied: matplotlib>=1.4.0 in c:\\users\\johns\\anaconda3\\lib\\site-packages (from scikit-plot) (3.3.4)\n",
      "Requirement already satisfied: scikit-learn>=0.18 in c:\\users\\johns\\appdata\\roaming\\python\\python38\\site-packages (from scikit-plot) (0.24.2)\n",
      "Requirement already satisfied: joblib>=0.10 in c:\\users\\johns\\anaconda3\\lib\\site-packages (from scikit-plot) (1.0.1)\n",
      "Requirement already satisfied: scipy>=0.9 in c:\\users\\johns\\anaconda3\\lib\\site-packages (from scikit-plot) (1.6.2)\n",
      "Requirement already satisfied: python-dateutil>=2.1 in c:\\users\\johns\\anaconda3\\lib\\site-packages (from matplotlib>=1.4.0->scikit-plot) (2.8.1)\n",
      "Requirement already satisfied: pyparsing!=2.0.4,!=2.1.2,!=2.1.6,>=2.0.3 in c:\\users\\johns\\anaconda3\\lib\\site-packages (from matplotlib>=1.4.0->scikit-plot) (2.4.7)\n",
      "Requirement already satisfied: numpy>=1.15 in c:\\users\\johns\\appdata\\roaming\\python\\python38\\site-packages (from matplotlib>=1.4.0->scikit-plot) (1.20.3)\n",
      "Requirement already satisfied: cycler>=0.10 in c:\\users\\johns\\anaconda3\\lib\\site-packages (from matplotlib>=1.4.0->scikit-plot) (0.10.0)\n",
      "Requirement already satisfied: pillow>=6.2.0 in c:\\users\\johns\\anaconda3\\lib\\site-packages (from matplotlib>=1.4.0->scikit-plot) (8.2.0)\n",
      "Requirement already satisfied: kiwisolver>=1.0.1 in c:\\users\\johns\\anaconda3\\lib\\site-packages (from matplotlib>=1.4.0->scikit-plot) (1.3.1)\n",
      "Requirement already satisfied: six in c:\\users\\johns\\anaconda3\\lib\\site-packages (from cycler>=0.10->matplotlib>=1.4.0->scikit-plot) (1.15.0)\n",
      "Requirement already satisfied: threadpoolctl>=2.0.0 in c:\\users\\johns\\anaconda3\\lib\\site-packages (from scikit-learn>=0.18->scikit-plot) (2.1.0)\n",
      "Requirement already satisfied: lightgbm in c:\\users\\johns\\anaconda3\\lib\\site-packages (3.2.1)\n",
      "Requirement already satisfied: scipy in c:\\users\\johns\\anaconda3\\lib\\site-packages (from lightgbm) (1.6.2)\n",
      "Requirement already satisfied: scikit-learn!=0.22.0 in c:\\users\\johns\\appdata\\roaming\\python\\python38\\site-packages (from lightgbm) (0.24.2)\n",
      "Requirement already satisfied: numpy in c:\\users\\johns\\appdata\\roaming\\python\\python38\\site-packages (from lightgbm) (1.20.3)\n",
      "Requirement already satisfied: wheel in c:\\users\\johns\\anaconda3\\lib\\site-packages (from lightgbm) (0.36.2)\n",
      "Requirement already satisfied: joblib>=0.11 in c:\\users\\johns\\anaconda3\\lib\\site-packages (from scikit-learn!=0.22.0->lightgbm) (1.0.1)\n",
      "Requirement already satisfied: threadpoolctl>=2.0.0 in c:\\users\\johns\\anaconda3\\lib\\site-packages (from scikit-learn!=0.22.0->lightgbm) (2.1.0)\n"
     ]
    }
   ],
   "source": [
    " \n",
    "!pip install scikit-plot\n",
    "!pip install lightgbm"
   ]
  },
  {
   "cell_type": "code",
   "execution_count": 2,
   "metadata": {},
   "outputs": [],
   "source": [
    "import pandas as pd\n",
    "import numpy as np\n",
    "import nltk\n",
    "import string\n",
    "import re\n",
    "from sklearn.pipeline import Pipeline\n",
    "\n",
    "from nltk.tokenize import TreebankWordTokenizer\n",
    "from nltk import SnowballStemmer, PorterStemmer, LancasterStemmer\n",
    "from nltk.stem import WordNetLemmatizer\n",
    "\n",
    "from sklearn.feature_extraction.text import CountVectorizer\n",
    "from sklearn.feature_extraction.text import TfidfVectorizer\n",
    "\n",
    "from sklearn.model_selection import train_test_split\n",
    "\n",
    "\n",
    "from sklearn.svm import SVC\n",
    "from sklearn.svm import LinearSVC\n",
    "from sklearn.linear_model import SGDClassifier\n",
    "from sklearn.linear_model import RidgeClassifierCV\n",
    "from sklearn.model_selection import StratifiedKFold, GridSearchCV\n",
    "from sklearn.naive_bayes import MultinomialNB\n",
    "\n",
    "import lightgbm as lgb\n",
    "\n",
    "from nltk.corpus import wordnet\n",
    "from nltk.corpus import stopwords\n",
    "from nltk.stem import WordNetLemmatizer\n",
    "from nltk.tokenize import word_tokenize\n",
    "from nltk.tokenize import TweetTokenizer\n",
    "from sklearn.preprocessing import label_binarize\n",
    "from sklearn.model_selection import train_test_split\n",
    "\n",
    "\n",
    "from sklearn.metrics import f1_score\n",
    "from sklearn.metrics import roc_auc_score\n",
    "from sklearn.metrics import accuracy_score\n",
    "from sklearn.metrics import confusion_matrix\n",
    "from sklearn.metrics import classification_report\n",
    "from scikitplot.metrics import plot_confusion_matrix\n",
    "\n",
    "\n",
    "from PIL import Image\n",
    "import matplotlib.pyplot as plt\n",
    "from nltk.probability import FreqDist\n",
    "from sklearn.metrics import plot_roc_curve\n",
    "%matplotlib inline"
   ]
  },
  {
   "cell_type": "code",
   "execution_count": 3,
   "metadata": {},
   "outputs": [
    {
     "data": {
      "text/html": [
       "<div>\n",
       "<style scoped>\n",
       "    .dataframe tbody tr th:only-of-type {\n",
       "        vertical-align: middle;\n",
       "    }\n",
       "\n",
       "    .dataframe tbody tr th {\n",
       "        vertical-align: top;\n",
       "    }\n",
       "\n",
       "    .dataframe thead th {\n",
       "        text-align: right;\n",
       "    }\n",
       "</style>\n",
       "<table border=\"1\" class=\"dataframe\">\n",
       "  <thead>\n",
       "    <tr style=\"text-align: right;\">\n",
       "      <th></th>\n",
       "      <th>lang_id</th>\n",
       "      <th>text</th>\n",
       "    </tr>\n",
       "  </thead>\n",
       "  <tbody>\n",
       "    <tr>\n",
       "      <th>0</th>\n",
       "      <td>xho</td>\n",
       "      <td>umgaqo-siseko wenza amalungiselelo kumaziko ax...</td>\n",
       "    </tr>\n",
       "    <tr>\n",
       "      <th>1</th>\n",
       "      <td>xho</td>\n",
       "      <td>i-dha iya kuba nobulumko bokubeka umsebenzi na...</td>\n",
       "    </tr>\n",
       "    <tr>\n",
       "      <th>2</th>\n",
       "      <td>eng</td>\n",
       "      <td>the province of kwazulu-natal department of tr...</td>\n",
       "    </tr>\n",
       "    <tr>\n",
       "      <th>3</th>\n",
       "      <td>nso</td>\n",
       "      <td>o netefatša gore o ba file dilo ka moka tše le...</td>\n",
       "    </tr>\n",
       "    <tr>\n",
       "      <th>4</th>\n",
       "      <td>ven</td>\n",
       "      <td>khomishini ya ndinganyiso ya mbeu yo ewa maana...</td>\n",
       "    </tr>\n",
       "    <tr>\n",
       "      <th>5</th>\n",
       "      <td>nso</td>\n",
       "      <td>dinyakišišo tše tša go dirwa gabedi ka ngwaga ...</td>\n",
       "    </tr>\n",
       "    <tr>\n",
       "      <th>6</th>\n",
       "      <td>tsn</td>\n",
       "      <td>kgetse nngwe le nngwe e e sa faposiwang mo tsh...</td>\n",
       "    </tr>\n",
       "    <tr>\n",
       "      <th>7</th>\n",
       "      <td>ven</td>\n",
       "      <td>mbadelo dze dza laelwa dzi do kwama mahatulele...</td>\n",
       "    </tr>\n",
       "    <tr>\n",
       "      <th>8</th>\n",
       "      <td>nso</td>\n",
       "      <td>maloko a dikhuduthamaga a ikarabela mongwe le ...</td>\n",
       "    </tr>\n",
       "    <tr>\n",
       "      <th>9</th>\n",
       "      <td>tsn</td>\n",
       "      <td>fa le dirisiwa lebone le tshwanetse go bontsha...</td>\n",
       "    </tr>\n",
       "  </tbody>\n",
       "</table>\n",
       "</div>"
      ],
      "text/plain": [
       "  lang_id                                               text\n",
       "0     xho  umgaqo-siseko wenza amalungiselelo kumaziko ax...\n",
       "1     xho  i-dha iya kuba nobulumko bokubeka umsebenzi na...\n",
       "2     eng  the province of kwazulu-natal department of tr...\n",
       "3     nso  o netefatša gore o ba file dilo ka moka tše le...\n",
       "4     ven  khomishini ya ndinganyiso ya mbeu yo ewa maana...\n",
       "5     nso  dinyakišišo tše tša go dirwa gabedi ka ngwaga ...\n",
       "6     tsn  kgetse nngwe le nngwe e e sa faposiwang mo tsh...\n",
       "7     ven  mbadelo dze dza laelwa dzi do kwama mahatulele...\n",
       "8     nso  maloko a dikhuduthamaga a ikarabela mongwe le ...\n",
       "9     tsn  fa le dirisiwa lebone le tshwanetse go bontsha..."
      ]
     },
     "execution_count": 3,
     "metadata": {},
     "output_type": "execute_result"
    }
   ],
   "source": [
    "df = pd.read_csv(\"train_set.csv\")\n",
    "test = pd.read_csv('test_set.csv')\n",
    "df.head(10)"
   ]
  },
  {
   "cell_type": "markdown",
   "metadata": {},
   "source": [
    "### Text Cleaning\n",
    "Remove noise"
   ]
  },
  {
   "cell_type": "code",
   "execution_count": 4,
   "metadata": {},
   "outputs": [
    {
     "data": {
      "text/html": [
       "<div>\n",
       "<style scoped>\n",
       "    .dataframe tbody tr th:only-of-type {\n",
       "        vertical-align: middle;\n",
       "    }\n",
       "\n",
       "    .dataframe tbody tr th {\n",
       "        vertical-align: top;\n",
       "    }\n",
       "\n",
       "    .dataframe thead th {\n",
       "        text-align: right;\n",
       "    }\n",
       "</style>\n",
       "<table border=\"1\" class=\"dataframe\">\n",
       "  <thead>\n",
       "    <tr style=\"text-align: right;\">\n",
       "      <th></th>\n",
       "      <th>lang_id</th>\n",
       "      <th>text</th>\n",
       "    </tr>\n",
       "  </thead>\n",
       "  <tbody>\n",
       "    <tr>\n",
       "      <th>0</th>\n",
       "      <td>xho</td>\n",
       "      <td>umgaqo-siseko wenza amalungiselelo kumaziko ax...</td>\n",
       "    </tr>\n",
       "    <tr>\n",
       "      <th>1</th>\n",
       "      <td>xho</td>\n",
       "      <td>i-dha iya kuba nobulumko bokubeka umsebenzi na...</td>\n",
       "    </tr>\n",
       "    <tr>\n",
       "      <th>2</th>\n",
       "      <td>eng</td>\n",
       "      <td>the province of kwazulu-natal department of tr...</td>\n",
       "    </tr>\n",
       "    <tr>\n",
       "      <th>3</th>\n",
       "      <td>nso</td>\n",
       "      <td>o netefatša gore o ba file dilo ka moka tše le...</td>\n",
       "    </tr>\n",
       "    <tr>\n",
       "      <th>4</th>\n",
       "      <td>ven</td>\n",
       "      <td>khomishini ya ndinganyiso ya mbeu yo ewa maana...</td>\n",
       "    </tr>\n",
       "  </tbody>\n",
       "</table>\n",
       "</div>"
      ],
      "text/plain": [
       "  lang_id                                               text\n",
       "0     xho  umgaqo-siseko wenza amalungiselelo kumaziko ax...\n",
       "1     xho  i-dha iya kuba nobulumko bokubeka umsebenzi na...\n",
       "2     eng  the province of kwazulu-natal department of tr...\n",
       "3     nso  o netefatša gore o ba file dilo ka moka tše le...\n",
       "4     ven  khomishini ya ndinganyiso ya mbeu yo ewa maana..."
      ]
     },
     "execution_count": 4,
     "metadata": {},
     "output_type": "execute_result"
    }
   ],
   "source": [
    "df.head()"
   ]
  },
  {
   "cell_type": "code",
   "execution_count": 5,
   "metadata": {},
   "outputs": [],
   "source": [
    "pattern_url = r'http[s]?://(?:[A-Za-z]|[0-9]|[$-_@.&+]|[!*\\(\\),]|(?:%[0-9A-Fa-f][0-9A-Fa-f]))+'\n",
    "subs_url = r'url-web'\n",
    "df['text'] = df['text'].replace(to_replace = pattern_url, value = subs_url, regex = True)\n",
    "\n",
    "\n",
    "###test\n",
    "test['text'] = test['text'].replace(to_replace = pattern_url, value = subs_url, regex = True)"
   ]
  },
  {
   "cell_type": "markdown",
   "metadata": {},
   "source": [
    "### remove punctuation"
   ]
  },
  {
   "cell_type": "code",
   "execution_count": 6,
   "metadata": {},
   "outputs": [
    {
     "name": "stdout",
     "output_type": "stream",
     "text": [
      "!\"#$%&'()*+,-./:;<=>?@[\\]^_`{|}~\n"
     ]
    }
   ],
   "source": [
    "import string \n",
    "print(string.punctuation)"
   ]
  },
  {
   "cell_type": "code",
   "execution_count": 7,
   "metadata": {},
   "outputs": [],
   "source": [
    "def remove_punctuation(post):\n",
    "    return ''.join([l for l in post if l not in string.punctuation])\n",
    "\n",
    "df['text'] = df['text'].apply(remove_punctuation)\n",
    "df['text'].iloc[2]\n",
    "\n",
    "\n",
    "###test\n",
    "test['text'] = test['text'].apply(remove_punctuation)"
   ]
  },
  {
   "cell_type": "code",
   "execution_count": 8,
   "metadata": {},
   "outputs": [],
   "source": [
    "df['text'] = df['text'].str.lower()\n",
    "test['text'] = test['text'].str.lower()"
   ]
  },
  {
   "cell_type": "markdown",
   "metadata": {},
   "source": [
    "### Tokenisation"
   ]
  },
  {
   "cell_type": "code",
   "execution_count": 9,
   "metadata": {},
   "outputs": [
    {
     "data": {
      "text/plain": [
       "['the',\n",
       " 'province',\n",
       " 'of',\n",
       " 'kwazulunatal',\n",
       " 'department',\n",
       " 'of',\n",
       " 'transport',\n",
       " 'invites',\n",
       " 'tenders',\n",
       " 'from',\n",
       " 'established',\n",
       " 'contractors',\n",
       " 'experienced',\n",
       " 'in',\n",
       " 'bridge',\n",
       " 'construction',\n",
       " 'for',\n",
       " 'the',\n",
       " 'construction',\n",
       " 'of',\n",
       " 'the',\n",
       " 'kwajolwayo',\n",
       " 'tugela',\n",
       " 'river',\n",
       " 'pedestrian',\n",
       " 'bridge',\n",
       " 'near',\n",
       " 'tugela',\n",
       " 'ferry',\n",
       " 'the',\n",
       " 'duration',\n",
       " 'of',\n",
       " 'the',\n",
       " 'project',\n",
       " 'will',\n",
       " 'be',\n",
       " 'months']"
      ]
     },
     "execution_count": 9,
     "metadata": {},
     "output_type": "execute_result"
    }
   ],
   "source": [
    "tokeniser = TreebankWordTokenizer()\n",
    "df['tokenised_text'] = df['text'].apply(tokeniser.tokenize)\n",
    "df['tokenised_text'].iloc[2]"
   ]
  },
  {
   "cell_type": "markdown",
   "metadata": {},
   "source": [
    "###  Stemmming"
   ]
  },
  {
   "cell_type": "code",
   "execution_count": 10,
   "metadata": {},
   "outputs": [
    {
     "name": "stdout",
     "output_type": "stream",
     "text": [
      "c                    --> c         \n",
      "a                    --> a         \n",
      "fa                   --> fa        \n",
      "tumelelo             --> tumelelo  \n",
      "ya                   --> ya        \n",
      "go                   --> go        \n",
      "hloma                --> hloma     \n",
      "go                   --> go        \n",
      "aga                  --> aga       \n",
      "goba                 --> goba      \n",
      "go                   --> go        \n",
      "bea                  --> bea       \n",
      "goba                 --> goba      \n",
      "go                   --> go        \n",
      "bea                  --> bea       \n",
      "sehlangwa            --> sehlangwa \n",
      "goba                 --> goba      \n",
      "selo                 --> selo      \n",
      "se                   --> se        \n",
      "sengwe               --> sengw     \n",
      "go                   --> go        \n",
      "ka                   --> ka        \n",
      "godimo               --> godimo    \n",
      "ga                   --> ga        \n",
      "goba                 --> goba      \n",
      "ka                   --> ka        \n",
      "tlase                --> tlase     \n",
      "ga                   --> ga        \n",
      "ditsela              --> ditsela   \n",
      "tša                  --> tša       \n",
      "porofense            --> porofens  \n",
      "goba                 --> goba      \n",
      "diseporo             --> diseporo  \n",
      "goba                 --> goba      \n",
      "lefelo               --> lefelo    \n",
      "leo                  --> leo       \n",
      "kago                 --> kago      \n",
      "e                    --> e         \n",
      "thibelwago           --> thibelwago\n",
      "goba                 --> goba      \n",
      "ya                   --> ya        \n",
      "go                   --> go        \n",
      "dira                 --> dira      \n",
      "diphetogo            --> diphetogo \n",
      "tša                  --> tša       \n",
      "tlhamo               --> tlhamo    \n",
      "goba                 --> goba      \n",
      "koketšo              --> koketšo   \n",
      "go                   --> go        \n",
      "sehlangwa            --> sehlangwa \n",
      "goba                 --> goba      \n",
      "selo                 --> selo      \n",
      "seo                  --> seo       \n",
      "se                   --> se        \n",
      "lego                 --> lego      \n",
      "fao                  --> fao       \n"
     ]
    }
   ],
   "source": [
    "stemmer = SnowballStemmer('english')\n",
    "\n",
    "def mbti_stemmer(words, stemmer):\n",
    "    return [stemmer.stem(word) for word in words]\n",
    "\n",
    "df['stemmed_text'] = df['tokenised_text'].apply(mbti_stemmer, args=(stemmer, ))\n",
    "\n",
    "for i, t in enumerate(df.iloc[15]['tokenised_text']):    \n",
    "    print ('{:20s} --> {:10s}'.format(t, df.iloc[15]['stemmed_text'][i]))"
   ]
  },
  {
   "cell_type": "markdown",
   "metadata": {},
   "source": [
    "### Lemmatization"
   ]
  },
  {
   "cell_type": "code",
   "execution_count": 11,
   "metadata": {},
   "outputs": [
    {
     "name": "stdout",
     "output_type": "stream",
     "text": [
      "idha                 --> idha      \n",
      "iya                  --> iya       \n",
      "kuba                 --> kuba      \n",
      "nobulumko            --> nobulumko \n",
      "bokubeka             --> bokubeka  \n",
      "umsebenzi            --> umsebenzi \n",
      "naphi                --> naphi     \n",
      "na                   --> na        \n",
      "kwisebe              --> kwisebe   \n",
      "ngokusekwe           --> ngokusekwe\n",
      "kwiimfuno            --> kwiimfuno \n",
      "zokusebenza          --> zokusebenza\n",
      "zalo                 --> zalo      \n",
      "emva                 --> emva      \n",
      "kokubonana           --> kokubonana\n",
      "nomsebenzi           --> nomsebenzi\n",
      "kunye                --> kunye     \n",
      "okanye               --> okanye    \n",
      "imanyano             --> imanyano  \n",
      "yakhe                --> yakhe     \n",
      "ukuba                --> ukuba     \n",
      "ulandulo             --> ulandulo  \n",
      "lomntu               --> lomntu    \n",
      "onjalo               --> onjalo    \n",
      "alufanelekanga       --> alufanelekanga\n",
      "idha                 --> idha      \n",
      "mayibize             --> mayibize  \n",
      "uncedo               --> uncedo    \n",
      "olufanelekileyo      --> olufanelekileyo\n",
      "elungelweni          --> elungelweni\n",
      "layo                 --> layo      \n"
     ]
    }
   ],
   "source": [
    "lemmatizer = WordNetLemmatizer()\n",
    "\n",
    "def mbti_lemma(words, lemmatizer):\n",
    "    return [lemmatizer.lemmatize(word) for word in words]  \n",
    "\n",
    "df['lemma_text'] = df['tokenised_text'].apply(mbti_lemma, args=(lemmatizer, ))  \n",
    "\n",
    "for i, t in enumerate(df.iloc[1]['tokenised_text']):    \n",
    "    print ('{:20s} --> {:10s}'.format(t, df.iloc[1]['lemma_text'][i]))"
   ]
  },
  {
   "cell_type": "code",
   "execution_count": 12,
   "metadata": {},
   "outputs": [],
   "source": [
    "def clean_data(df):\n",
    "  item = 0\n",
    "  for word in df['text']:\n",
    "    word = word .lower()\n",
    "    word = re.sub(r'@\\S+', '', word )\n",
    "    word = re.sub(r'[^\\w\\s]', '', word )\n",
    "    word = re.sub(r'\\d+', '', word)\n",
    "    word = re.sub(r'\\s\\s+', ' ', word)\n",
    "    word = word.lstrip(' ')  \n",
    "    word = word .lstrip()\n",
    "    word = word .rstrip()\n",
    "    word = word .replace('  ', ' ')\n",
    "    df.loc[item, 'text'] = word\n",
    "    item += 1"
   ]
  },
  {
   "cell_type": "code",
   "execution_count": 13,
   "metadata": {},
   "outputs": [
    {
     "data": {
      "text/html": [
       "<div>\n",
       "<style scoped>\n",
       "    .dataframe tbody tr th:only-of-type {\n",
       "        vertical-align: middle;\n",
       "    }\n",
       "\n",
       "    .dataframe tbody tr th {\n",
       "        vertical-align: top;\n",
       "    }\n",
       "\n",
       "    .dataframe thead th {\n",
       "        text-align: right;\n",
       "    }\n",
       "</style>\n",
       "<table border=\"1\" class=\"dataframe\">\n",
       "  <thead>\n",
       "    <tr style=\"text-align: right;\">\n",
       "      <th></th>\n",
       "      <th>lang_id</th>\n",
       "      <th>text</th>\n",
       "      <th>tokenised_text</th>\n",
       "      <th>stemmed_text</th>\n",
       "      <th>lemma_text</th>\n",
       "    </tr>\n",
       "  </thead>\n",
       "  <tbody>\n",
       "    <tr>\n",
       "      <th>0</th>\n",
       "      <td>xho</td>\n",
       "      <td>umgaqosiseko wenza amalungiselelo kumaziko axh...</td>\n",
       "      <td>[umgaqosiseko, wenza, amalungiselelo, kumaziko...</td>\n",
       "      <td>[umgaqosiseko, wenza, amalungiselelo, kumaziko...</td>\n",
       "      <td>[umgaqosiseko, wenza, amalungiselelo, kumaziko...</td>\n",
       "    </tr>\n",
       "    <tr>\n",
       "      <th>1</th>\n",
       "      <td>xho</td>\n",
       "      <td>idha iya kuba nobulumko bokubeka umsebenzi nap...</td>\n",
       "      <td>[idha, iya, kuba, nobulumko, bokubeka, umseben...</td>\n",
       "      <td>[idha, iya, kuba, nobulumko, bokubeka, umseben...</td>\n",
       "      <td>[idha, iya, kuba, nobulumko, bokubeka, umseben...</td>\n",
       "    </tr>\n",
       "    <tr>\n",
       "      <th>2</th>\n",
       "      <td>eng</td>\n",
       "      <td>the province of kwazulunatal department of tra...</td>\n",
       "      <td>[the, province, of, kwazulunatal, department, ...</td>\n",
       "      <td>[the, provinc, of, kwazulunat, depart, of, tra...</td>\n",
       "      <td>[the, province, of, kwazulunatal, department, ...</td>\n",
       "    </tr>\n",
       "    <tr>\n",
       "      <th>3</th>\n",
       "      <td>nso</td>\n",
       "      <td>o netefatša gore o ba file dilo ka moka tše le...</td>\n",
       "      <td>[o, netefatša, gore, o, ba, file, dilo, ka, mo...</td>\n",
       "      <td>[o, netefatša, gore, o, ba, file, dilo, ka, mo...</td>\n",
       "      <td>[o, netefatša, gore, o, ba, file, dilo, ka, mo...</td>\n",
       "    </tr>\n",
       "    <tr>\n",
       "      <th>4</th>\n",
       "      <td>ven</td>\n",
       "      <td>khomishini ya ndinganyiso ya mbeu yo ewa maana...</td>\n",
       "      <td>[khomishini, ya, ndinganyiso, ya, mbeu, yo, ew...</td>\n",
       "      <td>[khomishini, ya, ndinganyiso, ya, mbeu, yo, ew...</td>\n",
       "      <td>[khomishini, ya, ndinganyiso, ya, mbeu, yo, ew...</td>\n",
       "    </tr>\n",
       "    <tr>\n",
       "      <th>5</th>\n",
       "      <td>nso</td>\n",
       "      <td>dinyakišišo tše tša go dirwa gabedi ka ngwaga ...</td>\n",
       "      <td>[dinyakišišo, tše, tša, go, dirwa, gabedi, ka,...</td>\n",
       "      <td>[dinyakišišo, tše, tša, go, dirwa, gabedi, ka,...</td>\n",
       "      <td>[dinyakišišo, tše, tša, go, dirwa, gabedi, ka,...</td>\n",
       "    </tr>\n",
       "    <tr>\n",
       "      <th>6</th>\n",
       "      <td>tsn</td>\n",
       "      <td>kgetse nngwe le nngwe e e sa faposiwang mo tsh...</td>\n",
       "      <td>[kgetse, nngwe, le, nngwe, e, e, sa, faposiwan...</td>\n",
       "      <td>[kgets, nngwe, le, nngwe, e, e, sa, faposiwang...</td>\n",
       "      <td>[kgetse, nngwe, le, nngwe, e, e, sa, faposiwan...</td>\n",
       "    </tr>\n",
       "    <tr>\n",
       "      <th>7</th>\n",
       "      <td>ven</td>\n",
       "      <td>mbadelo dze dza laelwa dzi do kwama mahatulele...</td>\n",
       "      <td>[mbadelo, dze, dza, laelwa, dzi, do, kwama, ma...</td>\n",
       "      <td>[mbadelo, dze, dza, laelwa, dzi, do, kwama, ma...</td>\n",
       "      <td>[mbadelo, dze, dza, laelwa, dzi, do, kwama, ma...</td>\n",
       "    </tr>\n",
       "    <tr>\n",
       "      <th>8</th>\n",
       "      <td>nso</td>\n",
       "      <td>maloko a dikhuduthamaga a ikarabela mongwe le ...</td>\n",
       "      <td>[maloko, a, dikhuduthamaga, a, ikarabela, mong...</td>\n",
       "      <td>[maloko, a, dikhuduthamaga, a, ikarabela, mong...</td>\n",
       "      <td>[maloko, a, dikhuduthamaga, a, ikarabela, mong...</td>\n",
       "    </tr>\n",
       "    <tr>\n",
       "      <th>9</th>\n",
       "      <td>tsn</td>\n",
       "      <td>fa le dirisiwa lebone le tshwanetse go bontsha...</td>\n",
       "      <td>[fa, le, dirisiwa, lebone, le, tshwanetse, go,...</td>\n",
       "      <td>[fa, le, dirisiwa, lebon, le, tshwanets, go, b...</td>\n",
       "      <td>[fa, le, dirisiwa, lebone, le, tshwanetse, go,...</td>\n",
       "    </tr>\n",
       "  </tbody>\n",
       "</table>\n",
       "</div>"
      ],
      "text/plain": [
       "  lang_id                                               text  \\\n",
       "0     xho  umgaqosiseko wenza amalungiselelo kumaziko axh...   \n",
       "1     xho  idha iya kuba nobulumko bokubeka umsebenzi nap...   \n",
       "2     eng  the province of kwazulunatal department of tra...   \n",
       "3     nso  o netefatša gore o ba file dilo ka moka tše le...   \n",
       "4     ven  khomishini ya ndinganyiso ya mbeu yo ewa maana...   \n",
       "5     nso  dinyakišišo tše tša go dirwa gabedi ka ngwaga ...   \n",
       "6     tsn  kgetse nngwe le nngwe e e sa faposiwang mo tsh...   \n",
       "7     ven  mbadelo dze dza laelwa dzi do kwama mahatulele...   \n",
       "8     nso  maloko a dikhuduthamaga a ikarabela mongwe le ...   \n",
       "9     tsn  fa le dirisiwa lebone le tshwanetse go bontsha...   \n",
       "\n",
       "                                      tokenised_text  \\\n",
       "0  [umgaqosiseko, wenza, amalungiselelo, kumaziko...   \n",
       "1  [idha, iya, kuba, nobulumko, bokubeka, umseben...   \n",
       "2  [the, province, of, kwazulunatal, department, ...   \n",
       "3  [o, netefatša, gore, o, ba, file, dilo, ka, mo...   \n",
       "4  [khomishini, ya, ndinganyiso, ya, mbeu, yo, ew...   \n",
       "5  [dinyakišišo, tše, tša, go, dirwa, gabedi, ka,...   \n",
       "6  [kgetse, nngwe, le, nngwe, e, e, sa, faposiwan...   \n",
       "7  [mbadelo, dze, dza, laelwa, dzi, do, kwama, ma...   \n",
       "8  [maloko, a, dikhuduthamaga, a, ikarabela, mong...   \n",
       "9  [fa, le, dirisiwa, lebone, le, tshwanetse, go,...   \n",
       "\n",
       "                                        stemmed_text  \\\n",
       "0  [umgaqosiseko, wenza, amalungiselelo, kumaziko...   \n",
       "1  [idha, iya, kuba, nobulumko, bokubeka, umseben...   \n",
       "2  [the, provinc, of, kwazulunat, depart, of, tra...   \n",
       "3  [o, netefatša, gore, o, ba, file, dilo, ka, mo...   \n",
       "4  [khomishini, ya, ndinganyiso, ya, mbeu, yo, ew...   \n",
       "5  [dinyakišišo, tše, tša, go, dirwa, gabedi, ka,...   \n",
       "6  [kgets, nngwe, le, nngwe, e, e, sa, faposiwang...   \n",
       "7  [mbadelo, dze, dza, laelwa, dzi, do, kwama, ma...   \n",
       "8  [maloko, a, dikhuduthamaga, a, ikarabela, mong...   \n",
       "9  [fa, le, dirisiwa, lebon, le, tshwanets, go, b...   \n",
       "\n",
       "                                          lemma_text  \n",
       "0  [umgaqosiseko, wenza, amalungiselelo, kumaziko...  \n",
       "1  [idha, iya, kuba, nobulumko, bokubeka, umseben...  \n",
       "2  [the, province, of, kwazulunatal, department, ...  \n",
       "3  [o, netefatša, gore, o, ba, file, dilo, ka, mo...  \n",
       "4  [khomishini, ya, ndinganyiso, ya, mbeu, yo, ew...  \n",
       "5  [dinyakišišo, tše, tša, go, dirwa, gabedi, ka,...  \n",
       "6  [kgetse, nngwe, le, nngwe, e, e, sa, faposiwan...  \n",
       "7  [mbadelo, dze, dza, laelwa, dzi, do, kwama, ma...  \n",
       "8  [maloko, a, dikhuduthamaga, a, ikarabela, mong...  \n",
       "9  [fa, le, dirisiwa, lebone, le, tshwanetse, go,...  "
      ]
     },
     "execution_count": 13,
     "metadata": {},
     "output_type": "execute_result"
    }
   ],
   "source": [
    "clean_data(df)\n",
    "df.head(10)"
   ]
  },
  {
   "cell_type": "code",
   "execution_count": 14,
   "metadata": {},
   "outputs": [
    {
     "data": {
      "text/html": [
       "<div>\n",
       "<style scoped>\n",
       "    .dataframe tbody tr th:only-of-type {\n",
       "        vertical-align: middle;\n",
       "    }\n",
       "\n",
       "    .dataframe tbody tr th {\n",
       "        vertical-align: top;\n",
       "    }\n",
       "\n",
       "    .dataframe thead th {\n",
       "        text-align: right;\n",
       "    }\n",
       "</style>\n",
       "<table border=\"1\" class=\"dataframe\">\n",
       "  <thead>\n",
       "    <tr style=\"text-align: right;\">\n",
       "      <th></th>\n",
       "      <th>index</th>\n",
       "      <th>text</th>\n",
       "    </tr>\n",
       "  </thead>\n",
       "  <tbody>\n",
       "    <tr>\n",
       "      <th>0</th>\n",
       "      <td>1</td>\n",
       "      <td>mmasepala fa maemo a a kgethegileng a letlelel...</td>\n",
       "    </tr>\n",
       "    <tr>\n",
       "      <th>1</th>\n",
       "      <td>2</td>\n",
       "      <td>uzakwaziswa ngokufaneleko nakungafuneka eminye...</td>\n",
       "    </tr>\n",
       "    <tr>\n",
       "      <th>2</th>\n",
       "      <td>3</td>\n",
       "      <td>tshivhumbeo tshi fana na ngano dza vhathu</td>\n",
       "    </tr>\n",
       "    <tr>\n",
       "      <th>3</th>\n",
       "      <td>4</td>\n",
       "      <td>kube inja nelikati betingevakala kutsi titsini...</td>\n",
       "    </tr>\n",
       "    <tr>\n",
       "      <th>4</th>\n",
       "      <td>5</td>\n",
       "      <td>winste op buitelandse valuta</td>\n",
       "    </tr>\n",
       "    <tr>\n",
       "      <th>5</th>\n",
       "      <td>6</td>\n",
       "      <td>ke feela dilense tše hlakilego tša pono e tee ...</td>\n",
       "    </tr>\n",
       "    <tr>\n",
       "      <th>6</th>\n",
       "      <td>7</td>\n",
       "      <td>fn am final gems birthing optionszulutxtfn</td>\n",
       "    </tr>\n",
       "    <tr>\n",
       "      <th>7</th>\n",
       "      <td>8</td>\n",
       "      <td>ntjhafatso ya konteraka ya mosebetsi etsa bonn...</td>\n",
       "    </tr>\n",
       "    <tr>\n",
       "      <th>8</th>\n",
       "      <td>9</td>\n",
       "      <td>ugems uhlinzeka ngezinzuzo zemithi yezifo ezin...</td>\n",
       "    </tr>\n",
       "    <tr>\n",
       "      <th>9</th>\n",
       "      <td>10</td>\n",
       "      <td>so on occasion are statistics misused</td>\n",
       "    </tr>\n",
       "  </tbody>\n",
       "</table>\n",
       "</div>"
      ],
      "text/plain": [
       "   index                                               text\n",
       "0      1  mmasepala fa maemo a a kgethegileng a letlelel...\n",
       "1      2  uzakwaziswa ngokufaneleko nakungafuneka eminye...\n",
       "2      3          tshivhumbeo tshi fana na ngano dza vhathu\n",
       "3      4  kube inja nelikati betingevakala kutsi titsini...\n",
       "4      5                       winste op buitelandse valuta\n",
       "5      6  ke feela dilense tše hlakilego tša pono e tee ...\n",
       "6      7         fn am final gems birthing optionszulutxtfn\n",
       "7      8  ntjhafatso ya konteraka ya mosebetsi etsa bonn...\n",
       "8      9  ugems uhlinzeka ngezinzuzo zemithi yezifo ezin...\n",
       "9     10              so on occasion are statistics misused"
      ]
     },
     "execution_count": 14,
     "metadata": {},
     "output_type": "execute_result"
    }
   ],
   "source": [
    "clean_data(test)\n",
    "test.head(10)"
   ]
  },
  {
   "cell_type": "code",
   "execution_count": 15,
   "metadata": {},
   "outputs": [
    {
     "data": {
      "image/png": "[encoded data removed]",
      "text/plain": [
       "<Figure size 432x288 with 1 Axes>"
      ]
     },
     "metadata": {
      "needs_background": "light"
     },
     "output_type": "display_data"
    }
   ],
   "source": [
    "df.lang_id.value_counts()\n",
    "df['lang_id'].value_counts().plot(kind = 'bar')\n",
    "plt.show()"
   ]
  },
  {
   "cell_type": "code",
   "execution_count": 16,
   "metadata": {},
   "outputs": [],
   "source": [
    "#Clean train dataset\n",
    "df_clean =clean_data(df)"
   ]
  },
  {
   "cell_type": "code",
   "execution_count": 17,
   "metadata": {},
   "outputs": [],
   "source": [
    "#Clean train dataset\n",
    "test_clean =clean_data(test)"
   ]
  },
  {
   "cell_type": "markdown",
   "metadata": {},
   "source": [
    "## Model pipelines"
   ]
  },
  {
   "cell_type": "code",
   "execution_count": 26,
   "metadata": {},
   "outputs": [],
   "source": [
    "X = df['text'].str.join(' ')\n",
    "y= df['lang_id']\n",
    "\n",
    "X_testf = test['text'].str.join(' ')"
   ]
  },
  {
   "cell_type": "code",
   "execution_count": 19,
   "metadata": {},
   "outputs": [],
   "source": [
    "#Creating a training and test data sets\n",
    "X_train, X_test, y_train, y_test = train_test_split(X, y, test_size=0.1, random_state = 42)"
   ]
  },
  {
   "cell_type": "code",
   "execution_count": 20,
   "metadata": {},
   "outputs": [],
   "source": [
    "#SGD Classifiers\n",
    "SGD_count = Pipeline([('CountVec',  CountVectorizer(analyzer = 'char', \n",
    "                             tokenizer = None, \n",
    "                             preprocessor = None, \n",
    "                             stop_words = None, \n",
    "                             max_features = 180000,\n",
    "                             min_df = 1,\n",
    "                             ngram_range = (1,3)\n",
    "                            )),('SGD', SGDClassifier()),])\n",
    "\n",
    "#SVC Classifiers\n",
    "svc_count = Pipeline([('CountVec',  CountVectorizer(analyzer = 'char', \n",
    "                             tokenizer = None, \n",
    "                             preprocessor = None, \n",
    "                             stop_words = None, \n",
    "                             max_features = 180000,\n",
    "                             min_df = 1,\n",
    "                             ngram_range = (1,3)\n",
    "                            )),('SVC', SVC()),])\n",
    "\n",
    "#Naive Bayes Classifiers\n",
    "naive_count = Pipeline([('CountVec',  CountVectorizer(analyzer = 'char', \n",
    "                             tokenizer = None, \n",
    "                             preprocessor = None, \n",
    "                             stop_words = None, \n",
    "                             max_features = 180000,\n",
    "                             min_df = 1,\n",
    "                             ngram_range = (1,3)\n",
    "                            )),('naive', MultinomialNB()),])\n",
    "\n"
   ]
  },
  {
   "cell_type": "code",
   "execution_count": null,
   "metadata": {},
   "outputs": [],
   "source": []
  },
  {
   "cell_type": "markdown",
   "metadata": {},
   "source": [
    "##  Model Classifiers"
   ]
  },
  {
   "cell_type": "code",
   "execution_count": 21,
   "metadata": {},
   "outputs": [
    {
     "data": {
      "text/plain": [
       "Pipeline(steps=[('CountVec',\n",
       "                 CountVectorizer(analyzer='char', max_features=180000,\n",
       "                                 ngram_range=(1, 3))),\n",
       "                ('SGD', SGDClassifier())])"
      ]
     },
     "execution_count": 21,
     "metadata": {},
     "output_type": "execute_result"
    }
   ],
   "source": [
    "## SGD\n",
    "SGD_count.fit(X_train,y_train)\n",
    " "
   ]
  },
  {
   "cell_type": "code",
   "execution_count": 22,
   "metadata": {},
   "outputs": [
    {
     "data": {
      "text/plain": [
       "Pipeline(steps=[('CountVec',\n",
       "                 CountVectorizer(analyzer='char', max_features=180000,\n",
       "                                 ngram_range=(1, 3))),\n",
       "                ('SVC', SVC())])"
      ]
     },
     "execution_count": 22,
     "metadata": {},
     "output_type": "execute_result"
    }
   ],
   "source": [
    "svc_count.fit(X_train,y_train)"
   ]
  },
  {
   "cell_type": "code",
   "execution_count": 23,
   "metadata": {},
   "outputs": [
    {
     "data": {
      "text/plain": [
       "Pipeline(steps=[('CountVec',\n",
       "                 CountVectorizer(analyzer='char', max_features=180000,\n",
       "                                 ngram_range=(1, 3))),\n",
       "                ('naive', MultinomialNB())])"
      ]
     },
     "execution_count": 23,
     "metadata": {},
     "output_type": "execute_result"
    }
   ],
   "source": [
    "naive_count.fit(X_train,y_train)\n"
   ]
  },
  {
   "cell_type": "code",
   "execution_count": 24,
   "metadata": {},
   "outputs": [
    {
     "name": "stdout",
     "output_type": "stream",
     "text": [
      "              precision    recall  f1-score   support\n",
      "\n",
      "         afr       1.00      1.00      1.00       281\n",
      "         eng       0.99      1.00      1.00       297\n",
      "         nbl       0.96      0.92      0.94       327\n",
      "         nso       1.00      0.99      1.00       322\n",
      "         sot       1.00      0.95      0.98       307\n",
      "         ssw       1.00      0.98      0.99       286\n",
      "         tsn       0.95      1.00      0.97       297\n",
      "         tso       1.00      1.00      1.00       253\n",
      "         ven       1.00      1.00      1.00       322\n",
      "         xho       0.97      0.93      0.95       313\n",
      "         zul       0.86      0.96      0.91       295\n",
      "\n",
      "    accuracy                           0.97      3300\n",
      "   macro avg       0.98      0.98      0.98      3300\n",
      "weighted avg       0.98      0.97      0.97      3300\n",
      "\n"
     ]
    },
    {
     "data": {
      "text/plain": [
       "Text(0.5, 1.0, 'Confusion Matrix for SGD Classifier with Count Vectorizer')"
      ]
     },
     "execution_count": 24,
     "metadata": {},
     "output_type": "execute_result"
    },
    {
     "data": {
      "image/png": "[encoded data removed]",
      "text/plain": [
       "<Figure size 720x720 with 2 Axes>"
      ]
     },
     "metadata": {
      "needs_background": "light"
     },
     "output_type": "display_data"
    }
   ],
   "source": [
    "print(classification_report(y_test,SGD_count.predict(X_test)))\n",
    "plot_confusion_matrix(y_test,SGD_count.predict(X_test),normalize=True, figsize=(10,10),cmap=(\"Reds\"))\n",
    "plt.title(\"Confusion Matrix for SGD Classifier with Count Vectorizer\")"
   ]
  },
  {
   "cell_type": "code",
   "execution_count": 27,
   "metadata": {},
   "outputs": [],
   "source": [
    "test['lang_id'] = SGD_count.predict(X_testf)\n",
    "test[['index','lang_id']].to_csv(\"submission1.csv\",index=False)\n",
    "\n",
    "\n"
   ]
  },
  {
   "cell_type": "code",
   "execution_count": null,
   "metadata": {},
   "outputs": [],
   "source": [
    "\n",
    "test['lang_id'] = svc_count.predict(X_testf)\n",
    "test[['index','lang_id']].to_csv(\"submission2.csv\",index=False)"
   ]
  },
  {
   "cell_type": "code",
   "execution_count": null,
   "metadata": {},
   "outputs": [],
   "source": [
    "test['lang_id'] = naive_count.predict(X_testf)\n",
    "test[['index','lang_id']].to_csv(\"submission3.csv\",index=False)"
   ]
  },
  {
   "cell_type": "code",
   "execution_count": null,
   "metadata": {},
   "outputs": [],
   "source": []
  },
  {
   "cell_type": "code",
   "execution_count": null,
   "metadata": {},
   "outputs": [],
   "source": []
  },
  {
   "cell_type": "code",
   "execution_count": null,
   "metadata": {},
   "outputs": [],
   "source": []
  }
 ],
 "metadata": {
  "kernelspec": {
   "display_name": "Python 3",
   "language": "python",
   "name": "python3"
  },
  "language_info": {
   "codemirror_mode": {
    "name": "ipython",
    "version": 3
   },
   "file_extension": ".py",
   "mimetype": "text/x-python",
   "name": "python",
   "nbconvert_exporter": "python",
   "pygments_lexer": "ipython3",
   "version": "3.8.5"
  }
 },
 "nbformat": 4,
 "nbformat_minor": 4
}
